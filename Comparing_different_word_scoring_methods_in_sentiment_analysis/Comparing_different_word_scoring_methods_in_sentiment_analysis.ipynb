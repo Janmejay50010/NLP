{
  "nbformat": 4,
  "nbformat_minor": 0,
  "metadata": {
    "colab": {
      "name": "Comparing different word scoring methods in sentiment analysis.ipynb",
      "version": "0.3.2",
      "provenance": [],
      "collapsed_sections": []
    },
    "kernelspec": {
      "name": "python2",
      "display_name": "Python 2"
    },
    "accelerator": "TPU"
  },
  "cells": [
    {
      "metadata": {
        "id": "ykewT-kR6eE1",
        "colab_type": "text"
      },
      "cell_type": "markdown",
      "source": [
        "The texts to matrix() function for the Tokenizer in the Keras API provides 4 different\n",
        "methods for scoring words; they are:\n",
        "\n",
        "a) binary :- Where words are marked as present (1) or absent (0).        \n",
        "b) count :- Where the occurrence count for each word is marked as an integer.    \n",
        "c) tfidf :- Where each word is scored based on their frequency, where words that are common\n",
        "across all documents are penalized.   \n",
        "d) freq :- Where words are scored based on their frequency of occurrence within the document.\n",
        "\n",
        "We are going to compare these 4 different word scoring methods for our sentiment analysis of moview reviews model"
      ]
    },
    {
      "metadata": {
        "id": "We0L70EK7bCM",
        "colab_type": "text"
      },
      "cell_type": "markdown",
      "source": [
        "The Dataset contains 1000  text files of positive movie reviews in the pos folder and 1000 text files of neg reviews in neg folder."
      ]
    },
    {
      "metadata": {
        "id": "26tVmMl2C_Bn",
        "colab_type": "code",
        "outputId": "5bc34644-5095-40ab-9688-0eca8a83134e",
        "colab": {
          "base_uri": "https://localhost:8080/",
          "height": 122
        }
      },
      "cell_type": "code",
      "source": [
        "from google.colab import drive\n",
        "drive.mount('/content/drive')"
      ],
      "execution_count": 0,
      "outputs": [
        {
          "output_type": "stream",
          "text": [
            "Go to this URL in a browser: https://accounts.google.com/o/oauth2/auth?client_id=947318989803-6bn6qk8qdgf4n4g3pfee6491hc0brc4i.apps.googleusercontent.com&redirect_uri=urn%3Aietf%3Awg%3Aoauth%3A2.0%3Aoob&scope=email%20https%3A%2F%2Fwww.googleapis.com%2Fauth%2Fdocs.test%20https%3A%2F%2Fwww.googleapis.com%2Fauth%2Fdrive%20https%3A%2F%2Fwww.googleapis.com%2Fauth%2Fdrive.photos.readonly%20https%3A%2F%2Fwww.googleapis.com%2Fauth%2Fpeopleapi.readonly&response_type=code\n",
            "\n",
            "Enter your authorization code:\n",
            "··········\n",
            "Mounted at /content/drive\n"
          ],
          "name": "stdout"
        }
      ]
    },
    {
      "metadata": {
        "id": "Q_r2xCYu6d_u",
        "colab_type": "text"
      },
      "cell_type": "markdown",
      "source": [
        ""
      ]
    },
    {
      "metadata": {
        "id": "-5g7Dl0i5qWF",
        "colab_type": "code",
        "outputId": "b544b17b-7c1c-406b-b3bb-5f177f197d97",
        "colab": {
          "base_uri": "https://localhost:8080/",
          "height": 34
        }
      },
      "cell_type": "code",
      "source": [
        "import string\n",
        "import re\n",
        "from os import listdir\n",
        "from numpy import array\n",
        "from nltk.corpus import stopwords\n",
        "from keras.preprocessing.text import Tokenizer\n",
        "from keras.models import Sequential\n",
        "from keras.layers import Dense\n",
        "from pandas import DataFrame\n",
        "from matplotlib import pyplot"
      ],
      "execution_count": 0,
      "outputs": [
        {
          "output_type": "stream",
          "text": [
            "Using TensorFlow backend.\n"
          ],
          "name": "stderr"
        }
      ]
    },
    {
      "metadata": {
        "id": "gJonpzz3E8Dh",
        "colab_type": "code",
        "outputId": "f26efd16-540e-4b38-ff2e-eed88d0d2905",
        "colab": {
          "base_uri": "https://localhost:8080/",
          "height": 68
        }
      },
      "cell_type": "code",
      "source": [
        "import nltk\n",
        "nltk.download('stopwords')"
      ],
      "execution_count": 0,
      "outputs": [
        {
          "output_type": "stream",
          "text": [
            "[nltk_data] Downloading package stopwords to /root/nltk_data...\n",
            "[nltk_data]   Unzipping corpora/stopwords.zip.\n"
          ],
          "name": "stdout"
        },
        {
          "output_type": "execute_result",
          "data": {
            "text/plain": [
              "True"
            ]
          },
          "metadata": {
            "tags": []
          },
          "execution_count": 17
        }
      ]
    },
    {
      "metadata": {
        "id": "cW6ECpE4_j3x",
        "colab_type": "code",
        "outputId": "37631790-1856-4e37-d82c-78bb4081552c",
        "colab": {
          "base_uri": "https://localhost:8080/",
          "height": 34
        }
      },
      "cell_type": "code",
      "source": [
        "!pwd\n",
        "path = 'drive/My Drive/txt_sentoken/'"
      ],
      "execution_count": 0,
      "outputs": [
        {
          "output_type": "stream",
          "text": [
            "/content\n"
          ],
          "name": "stdout"
        }
      ]
    },
    {
      "metadata": {
        "id": "3XWslPpG5jC1",
        "colab_type": "code",
        "colab": {}
      },
      "cell_type": "code",
      "source": [
        "# Function to load file into memory\n",
        "def load_doc(filename):\n",
        "# open the file as read only\n",
        "  file = open(filename, 'r')\n",
        "# read all text\n",
        "  text = file.read()\n",
        "# close the file\n",
        "  file.close()\n",
        "  return text"
      ],
      "execution_count": 0,
      "outputs": []
    },
    {
      "metadata": {
        "id": "_WM9DLnf5jDB",
        "colab_type": "code",
        "colab": {}
      },
      "cell_type": "code",
      "source": [
        "#Function to turn a file(containing) into clean tokens(words)\n",
        "def clean_doc(doc):\n",
        "# split into tokens by white space\n",
        "  tokens = doc.split()\n",
        "# prepare regex for char filtering\n",
        "  re_punc = re.compile('[%s]' % re.escape(string.punctuation))\n",
        "# remove punctuation from each word\n",
        "  tokens = [re_punc.sub('', w) for w in tokens]\n",
        "# remove remaining tokens that are not alphabetic\n",
        "  tokens = [word for word in tokens if word.isalpha()]\n",
        "# filter out stop words\n",
        "  stop_words = set(stopwords.words('english'))\n",
        "  tokens = [w for w in tokens if not w in stop_words]\n",
        "# filter out short tokens\n",
        "  tokens = [word for word in tokens if len(word) > 1]\n",
        "  return tokens"
      ],
      "execution_count": 0,
      "outputs": []
    },
    {
      "metadata": {
        "id": "2pUdJso05jDM",
        "colab_type": "code",
        "colab": {}
      },
      "cell_type": "code",
      "source": [
        "#Function to clean a file into a line of clean words by looking at the vocabulary\n",
        "def doc_to_line(filename, vocab):\n",
        "# load the doc\n",
        "  doc = load_doc(filename)\n",
        "# clean doc\n",
        "  tokens = clean_doc(doc)\n",
        "# filter by vocab\n",
        "  tokens = [w for w in tokens if w in vocab]\n",
        "  return ' '.join(tokens)"
      ],
      "execution_count": 0,
      "outputs": []
    },
    {
      "metadata": {
        "id": "AdwY8Xk05jDZ",
        "colab_type": "code",
        "colab": {}
      },
      "cell_type": "code",
      "source": [
        "# This function load all text files in a directory and cleans them and gives a list of clean words by looking at the vocabulary\n",
        "#depending on the is_train argument,the unction will process test and training data\n",
        "\n",
        "def process_docs(directory, vocab, is_train):\n",
        "  lines = list()\n",
        "# walk through all files in the folder\n",
        "  for filename in listdir(directory):\n",
        "# skip any reviews in the test set\n",
        "    if is_train and filename.startswith('cv9'):\n",
        "      continue\n",
        "    if not is_train and not filename.startswith('cv9'):\n",
        "      continue\n",
        "# create the full path of the file to open\n",
        "    path = directory + '/' + filename\n",
        "# load and clean the doc\n",
        "    line = doc_to_line(path, vocab)\n",
        "# add to list\n",
        "    lines.append(line)\n",
        "  return lines"
      ],
      "execution_count": 0,
      "outputs": []
    },
    {
      "metadata": {
        "id": "dKMwtgxx5jDl",
        "colab_type": "code",
        "colab": {}
      },
      "cell_type": "code",
      "source": [
        "# load and clean a dataset\n",
        "def load_clean_dataset(vocab, is_train):\n",
        "# load documents\n",
        "  neg = process_docs(path+'neg', vocab, is_train)\n",
        "  pos = process_docs(path+'pos', vocab, is_train)\n",
        "  docs = neg + pos\n",
        "# prepare labels\n",
        "  labels = array([0 for _ in range(len(neg))] + [1 for _ in range(len(pos))])\n",
        "  return docs, labels"
      ],
      "execution_count": 0,
      "outputs": []
    },
    {
      "metadata": {
        "id": "8ih5Dcy85jDx",
        "colab_type": "code",
        "colab": {}
      },
      "cell_type": "code",
      "source": [
        "#define the model\n",
        "def define_model(n_words):\n",
        "# define network\n",
        "  model = Sequential()\n",
        "  model.add(Dense(50, input_shape=(n_words,), activation='relu'))\n",
        "  model.add(Dense(1, activation='sigmoid'))\n",
        "# compile network\n",
        "  model.compile(loss='binary_crossentropy', optimizer='adam', metrics=['accuracy'])\n",
        "  return model"
      ],
      "execution_count": 0,
      "outputs": []
    },
    {
      "metadata": {
        "id": "qDNvrdXR5jD9",
        "colab_type": "code",
        "colab": {}
      },
      "cell_type": "code",
      "source": [
        "#Running each model n_repeat times and taking there average as the real accuracy\n",
        "def evaluate_mode(Xtrain, ytrain, Xtest, ytest):\n",
        "  scores = list()\n",
        "  n_repeats = 10\n",
        "  n_words = Xtest.shape[1]\n",
        "  for i in range(n_repeats):\n",
        "# define network\n",
        "    model = define_model(n_words)\n",
        "# fit network\n",
        "    model.fit(Xtrain, ytrain, epochs=10, verbose=0)\n",
        "# evaluate\n",
        "    _, acc = model.evaluate(Xtest, ytest, verbose=0)\n",
        "    scores.append(acc)\n",
        "    print('%d accuracy: %s' % ((i+1), acc))\n",
        "  return scores"
      ],
      "execution_count": 0,
      "outputs": []
    },
    {
      "metadata": {
        "id": "92JzAZkR5jEK",
        "colab_type": "code",
        "colab": {}
      },
      "cell_type": "code",
      "source": [
        "#prepare bag of words encoding of docs\n",
        "def prepare_data(train_docs, test_docs, mode):\n",
        "# create the tokenizer\n",
        "  tokenizer = Tokenizer()\n",
        "# fit the tokenizer on the documents\n",
        "  tokenizer.fit_on_texts(train_docs)\n",
        "# encode training data set\n",
        "  Xtrain = tokenizer.texts_to_matrix(train_docs, mode=mode)\n",
        "# encode training data set\n",
        "  Xtest = tokenizer.texts_to_matrix(test_docs, mode=mode)\n",
        "  return Xtrain, Xtest"
      ],
      "execution_count": 0,
      "outputs": []
    },
    {
      "metadata": {
        "id": "bq9XVTT35jEY",
        "colab_type": "code",
        "colab": {}
      },
      "cell_type": "code",
      "source": [
        "# load the vocabulary\n",
        "vocab_filename = path +'vocab.txt'\n",
        "vocab = load_doc(vocab_filename)\n",
        "vocab = set(vocab.split())\n",
        "# load all reviews\n",
        "train_docs, ytrain = load_clean_dataset(vocab, True)\n",
        "test_docs, ytest = load_clean_dataset(vocab, False)"
      ],
      "execution_count": 0,
      "outputs": []
    },
    {
      "metadata": {
        "id": "6OxiA69nHh55",
        "colab_type": "code",
        "outputId": "625d8710-c12f-4d59-8618-a704458be0d0",
        "colab": {
          "base_uri": "https://localhost:8080/",
          "height": 819
        }
      },
      "cell_type": "code",
      "source": [
        "# run experiment\n",
        "modes = ['binary', 'count', 'tfidf', 'freq']\n",
        "results = DataFrame()\n",
        "for mode in modes:\n",
        "# prepare data for mode\n",
        "  Xtrain, Xtest = prepare_data(train_docs, test_docs, mode)\n",
        "# evaluate model on data for mode\n",
        "  results[mode] = evaluate_mode(Xtrain, ytrain, Xtest, ytest)"
      ],
      "execution_count": 0,
      "outputs": [
        {
          "output_type": "stream",
          "text": [
            "WARNING:tensorflow:From /usr/local/lib/python2.7/dist-packages/tensorflow/python/framework/op_def_library.py:263: colocate_with (from tensorflow.python.framework.ops) is deprecated and will be removed in a future version.\n",
            "Instructions for updating:\n",
            "Colocations handled automatically by placer.\n",
            "WARNING:tensorflow:From /usr/local/lib/python2.7/dist-packages/tensorflow/python/ops/math_ops.py:3066: to_int32 (from tensorflow.python.ops.math_ops) is deprecated and will be removed in a future version.\n",
            "Instructions for updating:\n",
            "Use tf.cast instead.\n",
            "1 accuracy: 0.935\n",
            "2 accuracy: 0.94\n",
            "3 accuracy: 0.94\n",
            "4 accuracy: 0.93\n",
            "5 accuracy: 0.94\n",
            "6 accuracy: 0.945\n",
            "7 accuracy: 0.93\n",
            "8 accuracy: 0.93\n",
            "9 accuracy: 0.935\n",
            "10 accuracy: 0.92\n",
            "1 accuracy: 0.885\n",
            "2 accuracy: 0.89\n",
            "3 accuracy: 0.89\n",
            "4 accuracy: 0.9\n",
            "5 accuracy: 0.9\n",
            "6 accuracy: 0.9\n",
            "7 accuracy: 0.895\n",
            "8 accuracy: 0.895\n",
            "9 accuracy: 0.905\n",
            "10 accuracy: 0.895\n",
            "1 accuracy: 0.86\n",
            "2 accuracy: 0.875\n",
            "3 accuracy: 0.885\n",
            "4 accuracy: 0.9\n",
            "5 accuracy: 0.89\n",
            "6 accuracy: 0.87\n",
            "7 accuracy: 0.885\n",
            "8 accuracy: 0.87\n",
            "9 accuracy: 0.87\n",
            "10 accuracy: 0.88\n",
            "1 accuracy: 0.87\n",
            "2 accuracy: 0.87\n",
            "3 accuracy: 0.88\n",
            "4 accuracy: 0.875\n",
            "5 accuracy: 0.88\n",
            "6 accuracy: 0.88\n",
            "7 accuracy: 0.875\n",
            "8 accuracy: 0.865\n",
            "9 accuracy: 0.86\n",
            "10 accuracy: 0.875\n"
          ],
          "name": "stdout"
        }
      ]
    },
    {
      "metadata": {
        "id": "eFDxogDa5jEl",
        "colab_type": "code",
        "outputId": "45cf1f78-5b10-44ea-b77f-7d7aef513efd",
        "colab": {
          "base_uri": "https://localhost:8080/",
          "height": 500
        }
      },
      "cell_type": "code",
      "source": [
        "# summarize results\n",
        "print(results.describe())\n",
        "# plot results\n",
        "results.boxplot()\n",
        "pyplot.show()"
      ],
      "execution_count": 0,
      "outputs": [
        {
          "output_type": "stream",
          "text": [
            "          binary      count      tfidf       freq\n",
            "count  10.000000  10.000000  10.000000  10.000000\n",
            "mean    0.934500   0.895500   0.878500   0.873000\n",
            "std     0.007246   0.005986   0.011797   0.006749\n",
            "min     0.920000   0.885000   0.860000   0.860000\n",
            "25%     0.930000   0.891250   0.870000   0.870000\n",
            "50%     0.935000   0.895000   0.877500   0.875000\n",
            "75%     0.940000   0.900000   0.885000   0.878750\n",
            "max     0.945000   0.905000   0.900000   0.880000\n"
          ],
          "name": "stdout"
        },
        {
          "output_type": "display_data",
          "data": {
            "image/png": "[encoded data removed]",
            "text/plain": [
              "<Figure size 576x396 with 1 Axes>"
            ]
          },
          "metadata": {
            "tags": []
          }
        }
      ]
    },
    {
      "metadata": {
        "id": "m4Ar7io35jEz",
        "colab_type": "text"
      },
      "cell_type": "markdown",
      "source": [
        "# Predicting Sentiment for New Reviews"
      ]
    },
    {
      "metadata": {
        "id": "N99AVzxf5jE5",
        "colab_type": "code",
        "colab": {}
      },
      "cell_type": "code",
      "source": [
        "# load the vocabulary\n",
        "vocab_filename = path+'vocab.txt'\n",
        "vocab = load_doc(vocab_filename)\n",
        "vocab = set(vocab.split())\n",
        "\n",
        "# load all reviews\n",
        "train_docs, ytrain = load_clean_dataset(vocab,True)\n",
        "test_docs, ytest = load_clean_dataset(vocab,False)\n",
        "\n",
        "# create the tokenizer\n",
        "tokenizer = Tokenizer()\n",
        "# fit the tokenizer on the documents\n",
        "tokenizer.fit_on_texts(train_docs)\n",
        "\n",
        "\n",
        "# encode data\n",
        "Xtrain = tokenizer.texts_to_matrix(train_docs, mode='binary')\n",
        "Xtest = tokenizer.texts_to_matrix(test_docs, mode='binary')\n"
      ],
      "execution_count": 0,
      "outputs": []
    },
    {
      "metadata": {
        "id": "KP9hnBKHMBSF",
        "colab_type": "code",
        "outputId": "67577a47-9301-401c-f4c0-0cc758547664",
        "colab": {
          "base_uri": "https://localhost:8080/",
          "height": 374
        }
      },
      "cell_type": "code",
      "source": [
        "# define network\n",
        "n_words = Xtrain.shape[1]\n",
        "model = define_model(n_words)\n",
        "\n",
        "# fit network\n",
        "model.fit(Xtrain, ytrain, epochs=10, verbose=2)\n"
      ],
      "execution_count": 0,
      "outputs": [
        {
          "output_type": "stream",
          "text": [
            "Epoch 1/10\n",
            " - 4s - loss: 0.4717 - acc: 0.7772\n",
            "Epoch 2/10\n",
            " - 1s - loss: 0.0732 - acc: 0.9884\n",
            "Epoch 3/10\n",
            " - 1s - loss: 0.0206 - acc: 1.0000\n",
            "Epoch 4/10\n",
            " - 1s - loss: 0.0092 - acc: 1.0000\n",
            "Epoch 5/10\n",
            " - 1s - loss: 0.0054 - acc: 1.0000\n",
            "Epoch 6/10\n",
            " - 1s - loss: 0.0035 - acc: 1.0000\n",
            "Epoch 7/10\n",
            " - 1s - loss: 0.0024 - acc: 1.0000\n",
            "Epoch 8/10\n",
            " - 1s - loss: 0.0018 - acc: 1.0000\n",
            "Epoch 9/10\n",
            " - 1s - loss: 0.0013 - acc: 1.0000\n",
            "Epoch 10/10\n",
            " - 1s - loss: 0.0010 - acc: 1.0000\n"
          ],
          "name": "stdout"
        },
        {
          "output_type": "execute_result",
          "data": {
            "text/plain": [
              "<keras.callbacks.History at 0x7fe1a23cf9d0>"
            ]
          },
          "metadata": {
            "tags": []
          },
          "execution_count": 37
        }
      ]
    },
    {
      "metadata": {
        "id": "YZ0YoEhAMEUe",
        "colab_type": "code",
        "outputId": "7a8847a4-603c-4094-b34c-e99939b40a94",
        "colab": {
          "base_uri": "https://localhost:8080/",
          "height": 85
        }
      },
      "cell_type": "code",
      "source": [
        "# test positive text\n",
        "text = 'Best movie ever! It was great, I recommend it.'\n",
        "percent, sentiment = predict_sentiment(text, vocab, tokenizer, model)\n",
        "print('Review: [%s]\\nSentiment: %s (%.3f%%)' % (text, sentiment, percent*100))\n",
        "\n",
        "# test negative text\n",
        "text = 'This is a bad movie.'\n",
        "percent, sentiment = predict_sentiment(text, vocab, tokenizer, model)\n",
        "print('Review: [%s]\\nSentiment: %s (%.3f%%)' % (text, sentiment, percent*100))"
      ],
      "execution_count": 0,
      "outputs": [
        {
          "output_type": "stream",
          "text": [
            "Review: [Best movie ever! It was great, I recommend it.]\n",
            "Sentiment: POSITIVE (57.387%)\n",
            "Review: [This is a bad movie.]\n",
            "Sentiment: NEGATIVE (65.761%)\n"
          ],
          "name": "stdout"
        }
      ]
    },
    {
      "metadata": {
        "id": "9Jgz5Iqh5jFP",
        "colab_type": "code",
        "colab": {}
      },
      "cell_type": "code",
      "source": [
        ""
      ],
      "execution_count": 0,
      "outputs": []
    }
  ]
}