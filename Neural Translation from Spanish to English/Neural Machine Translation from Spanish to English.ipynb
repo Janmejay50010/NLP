{
 "cells": [
  {
   "cell_type": "code",
   "execution_count": 1,
   "metadata": {},
   "outputs": [
    {
     "name": "stderr",
     "output_type": "stream",
     "text": [
      "Using TensorFlow backend.\n"
     ]
    }
   ],
   "source": [
    "#The data contains a text file which has pairs of spanish sentence followed by its translated english sentence "
   ]
  },
  {
   "cell_type": "code",
   "execution_count": null,
   "metadata": {},
   "outputs": [],
   "source": [
    "import string\n",
    "import re\n",
    "from numpy import array, argmax, random, take\n",
    "import pandas as pd\n",
    "from keras.models import Sequential\n",
    "from keras.layers import Dense, LSTM, Embedding, RepeatVector\n",
    "from keras.preprocessing.text import Tokenizer\n",
    "from keras.callbacks import ModelCheckpoint\n",
    "from keras.preprocessing.sequence import pad_sequences\n",
    "from keras.models import load_model\n",
    "from keras import optimizers\n",
    "import matplotlib.pyplot as plt\n",
    "% matplotlib inline"
   ]
  },
  {
   "cell_type": "code",
   "execution_count": 2,
   "metadata": {},
   "outputs": [],
   "source": [
    "#Function to read the file\n",
    "def read_text(filename):\n",
    "        # open the file\n",
    "        file = open(filename, mode='r')\n",
    "        \n",
    "        # read all text\n",
    "        text = file.read().decode('UTF-8').encode('ascii',errors='ignore')\n",
    "        file.close()\n",
    "        return text"
   ]
  },
  {
   "cell_type": "code",
   "execution_count": 3,
   "metadata": {},
   "outputs": [],
   "source": [
    "# Function to split a text into sentences \n",
    "def to_lines(text):\n",
    "      sents = text.split('\\n')\n",
    "      sents = [i.split('\\t') for i in sents]\n",
    "      return sents"
   ]
  },
  {
   "cell_type": "code",
   "execution_count": 4,
   "metadata": {},
   "outputs": [],
   "source": [
    "#Reading the data from the file\n",
    "data = read_text('spa.txt')"
   ]
  },
  {
   "cell_type": "code",
   "execution_count": 5,
   "metadata": {},
   "outputs": [],
   "source": [
    "#print(data)\n",
    "#print(type(data))"
   ]
  },
  {
   "cell_type": "code",
   "execution_count": 6,
   "metadata": {},
   "outputs": [],
   "source": [
    "spa_eng = to_lines(data)"
   ]
  },
  {
   "cell_type": "code",
   "execution_count": 7,
   "metadata": {},
   "outputs": [
    {
     "name": "stdout",
     "output_type": "stream",
     "text": [
      "<type 'list'>\n",
      "120615\n"
     ]
    },
    {
     "data": {
      "text/plain": [
       "[['Go.', 'Ve.'],\n",
       " ['Go.', 'Vete.'],\n",
       " ['Go.', 'Vaya.'],\n",
       " ['Go.', 'Vyase.'],\n",
       " ['Hi.', 'Hola.']]"
      ]
     },
     "execution_count": 7,
     "metadata": {},
     "output_type": "execute_result"
    }
   ],
   "source": [
    "#Printing the first five 5 examples\n",
    "print(type(spa_eng))\n",
    "print(len(spa_eng))\n",
    "spa_eng[:5]"
   ]
  },
  {
   "cell_type": "code",
   "execution_count": 8,
   "metadata": {},
   "outputs": [],
   "source": [
    "#Making two lists of English and Spanish sentences\n",
    "import numpy as np\n",
    "x1=[]\n",
    "x2=[]\n",
    "for i in spa_eng[:-1]:\n",
    "    x1.append(np.array(i[0]))\n",
    "    x2.append(np.array(i[1]))\n"
   ]
  },
  {
   "cell_type": "code",
   "execution_count": 9,
   "metadata": {},
   "outputs": [
    {
     "name": "stdout",
     "output_type": "stream",
     "text": [
      "120614\n",
      "120614\n"
     ]
    }
   ],
   "source": [
    "print(len(x1))\n",
    "print(len(x2))"
   ]
  },
  {
   "cell_type": "code",
   "execution_count": 10,
   "metadata": {},
   "outputs": [
    {
     "name": "stdout",
     "output_type": "stream",
     "text": [
      "(120614, 1)\n",
      "(120614, 1)\n"
     ]
    }
   ],
   "source": [
    "#Converting the lists to arrays\n",
    "x1 = np.array(x1)\n",
    "x1 = x1[:,np.newaxis]\n",
    "x1.shape\n",
    "x2 = np.array(x2)\n",
    "x2 = x2[:,np.newaxis]\n",
    "print(x2.shape)\n",
    "print(x1.shape)\n"
   ]
  },
  {
   "cell_type": "code",
   "execution_count": 11,
   "metadata": {},
   "outputs": [
    {
     "name": "stdout",
     "output_type": "stream",
     "text": [
      "(120614, 2)\n",
      "<type 'numpy.ndarray'>\n",
      "<type 'numpy.ndarray'>\n"
     ]
    }
   ],
   "source": [
    "#Combining these two arrays using hstack\n",
    "x1[0]\n",
    "x2[0]\n",
    "spa_eng1 = np.hstack((x1,x2))\n",
    "print(spa_eng1.shape)\n",
    "print(type(spa_eng1))\n",
    "print(type(spa_eng1[0]))"
   ]
  },
  {
   "cell_type": "code",
   "execution_count": 12,
   "metadata": {},
   "outputs": [
    {
     "data": {
      "text/plain": [
       "array([['Go.', 'Ve.'],\n",
       "       ['Go.', 'Vete.'],\n",
       "       ['Go.', 'Vaya.'],\n",
       "       ...,\n",
       "       ['Since there are usually multiple websites on any given topic, I usually just click the back button when I arrive on any webpage that has pop-up advertising. I just go to the next page found by Google and hope for something less irritating.',\n",
       "        'Como suele haber varias pginas web sobre cualquier tema, normalmente slo le doy al botn de retroceso cuando entro en una pgina web que tiene anuncios en ventanas emergentes. Simplemente voy a la siguiente pgina encontrada por Google y espero encontrar algo menos irritante.'],\n",
       "       ['If you want to sound like a native speaker, you must be willing to practice saying the same sentence over and over in the same way that banjo players practice the same phrase over and over until they can play it correctly and at the desired tempo.',\n",
       "        'Si quieres sonar como un hablante nativo, debes estar dispuesto a practicar diciendo la misma frase una y otra vez de la misma manera en que un msico de banjo practica el mismo fraseo una y otra vez hasta que lo puedan tocar correctamente y en el tiempo esperado.'],\n",
       "       ['It may be impossible to get a completely error-free corpus due to the nature of this kind of collaborative effort. However, if we encourage members to contribute sentences in their own languages rather than experiment in languages they are learning, we might be able to minimize errors.',\n",
       "        'Puede que sea imposible obtener un corpus completamente libre de errores debido a la naturaleza de este tipo de esfuerzo de colaboracin. Sin embargo, si animamos a los miembros a contribuir frases en sus propios idiomas en lugar de experimentar con los idiomas que estn aprendiendo, podramos ser capaces de minimizar los errores.']],\n",
       "      dtype='|S329')"
      ]
     },
     "execution_count": 12,
     "metadata": {},
     "output_type": "execute_result"
    }
   ],
   "source": [
    "spa_eng1"
   ]
  },
  {
   "cell_type": "code",
   "execution_count": 35,
   "metadata": {},
   "outputs": [],
   "source": [
    "#Only the first 50000 sentence pairs to reduce the training time of the model\n",
    "spa_eng = spa_eng1[:90000,:]"
   ]
  },
  {
   "cell_type": "code",
   "execution_count": 36,
   "metadata": {},
   "outputs": [
    {
     "name": "stdout",
     "output_type": "stream",
     "text": [
      "<type 'numpy.ndarray'>\n",
      "<type 'numpy.ndarray'>\n"
     ]
    }
   ],
   "source": [
    "# Remove punctuation\n",
    "spa_eng[:,0] = [s.translate(None, string.punctuation) for s in spa_eng[:,0]]\n",
    "spa_eng[:,1] = [s.translate(None, string.punctuation) for s in spa_eng[:,1]]\n",
    "print(type(spa_eng))\n",
    "print(type(spa_eng[0,:]))"
   ]
  },
  {
   "cell_type": "code",
   "execution_count": 37,
   "metadata": {},
   "outputs": [
    {
     "data": {
      "text/plain": [
       "array([['go', 've'],\n",
       "       ['go', 'vete'],\n",
       "       ['go', 'vaya'],\n",
       "       ['go', 'vyase'],\n",
       "       ['hi', 'hola'],\n",
       "       ['run', 'corre'],\n",
       "       ['run', 'corred'],\n",
       "       ['who', 'quin']], dtype='|S329')"
      ]
     },
     "execution_count": 37,
     "metadata": {},
     "output_type": "execute_result"
    }
   ],
   "source": [
    "# convert text to lowercase\n",
    "for i in range(len(spa_eng)):\n",
    "    spa_eng[i,0] = spa_eng[i,0].lower()\n",
    "    spa_eng[i,1] = spa_eng[i,1].lower()\n",
    "\n",
    "spa_eng[:8,:]"
   ]
  },
  {
   "cell_type": "code",
   "execution_count": 38,
   "metadata": {},
   "outputs": [
    {
     "data": {
      "image/png": "[encoded data removed]",
      "text/plain": [
       "<Figure size 432x288 with 2 Axes>"
      ]
     },
     "metadata": {
      "needs_background": "light"
     },
     "output_type": "display_data"
    }
   ],
   "source": [
    "# empty lists\n",
    "eng_l = []\n",
    "spa_l = []\n",
    "\n",
    "# populate the lists with sentence lengths\n",
    "for i in spa_eng[:,0]:\n",
    "      eng_l.append(len(i.split()))\n",
    "\n",
    "for i in spa_eng[:,1]:\n",
    "      spa_l.append(len(i.split()))\n",
    "\n",
    "length_df = pd.DataFrame({'eng':eng_l, 'spa':spa_l})\n",
    "\n",
    "length_df.hist(bins = 30)\n",
    "plt.show()"
   ]
  },
  {
   "cell_type": "code",
   "execution_count": 39,
   "metadata": {},
   "outputs": [],
   "source": [
    "# function to build a tokenizer\n",
    "def tokenization(lines):\n",
    "      tokenizer = Tokenizer()\n",
    "      tokenizer.fit_on_texts(lines)\n",
    "      return tokenizer"
   ]
  },
  {
   "cell_type": "code",
   "execution_count": 40,
   "metadata": {},
   "outputs": [
    {
     "name": "stdout",
     "output_type": "stream",
     "text": [
      "English Vocabulary Size: 10369\n",
      "<type 'dict'>\n"
     ]
    }
   ],
   "source": [
    "# prepare english tokenizer\n",
    "eng_tokenizer = tokenization(spa_eng[:, 0])\n",
    "eng_vocab_size = len(eng_tokenizer.word_index) + 1\n",
    "eng_length = 7\n",
    "print('English Vocabulary Size: %d' % eng_vocab_size)\n",
    "\n",
    "print(type(eng_tokenizer.word_index))\n",
    "#print(eng_tokenizer.word_index)"
   ]
  },
  {
   "cell_type": "code",
   "execution_count": 41,
   "metadata": {},
   "outputs": [
    {
     "name": "stdout",
     "output_type": "stream",
     "text": [
      "Deutch Vocabulary Size: 19104\n"
     ]
    }
   ],
   "source": [
    "# prepare spanish tokenizer\n",
    "spa_tokenizer = tokenization(spa_eng[:, 1])\n",
    "spa_vocab_size = len(spa_tokenizer.word_index) + 1\n",
    "\n",
    "spa_length = 8\n",
    "print('Deutch Vocabulary Size: %d' % spa_vocab_size)"
   ]
  },
  {
   "cell_type": "code",
   "execution_count": 42,
   "metadata": {},
   "outputs": [],
   "source": [
    "# encode and pad sequences according to the maximum length of the sequences\n",
    "def encode_sequences(tokenizer, length, lines):\n",
    "         # integer encode sequences\n",
    "         seq = tokenizer.texts_to_sequences(lines)\n",
    "         # pad sequences with 0 values\n",
    "         seq = pad_sequences(seq, maxlen=length, padding='post')\n",
    "         return seq"
   ]
  },
  {
   "cell_type": "code",
   "execution_count": 43,
   "metadata": {},
   "outputs": [],
   "source": [
    "from sklearn.model_selection import train_test_split\n",
    "\n",
    "# split data into train and test set\n",
    "train, test = train_test_split(spa_eng, test_size=0.2, random_state = 12)"
   ]
  },
  {
   "cell_type": "code",
   "execution_count": 44,
   "metadata": {},
   "outputs": [
    {
     "name": "stdout",
     "output_type": "stream",
     "text": [
      "<type 'numpy.ndarray'>\n",
      "(72000, 8)\n",
      "(72000, 7)\n"
     ]
    }
   ],
   "source": [
    "# prepare training data\n",
    "trainX = encode_sequences(spa_tokenizer, spa_length, train[:, 1])\n",
    "trainY = encode_sequences(eng_tokenizer, eng_length, train[:, 0])\n",
    "\n",
    "# prepare validation data\n",
    "testX = encode_sequences(spa_tokenizer, spa_length, test[:, 1])\n",
    "testY = encode_sequences(eng_tokenizer, eng_length, test[:, 0])\n",
    "\n",
    "print(type(trainX))\n",
    "print(trainX.shape)\n",
    "print(trainY.shape)"
   ]
  },
  {
   "cell_type": "code",
   "execution_count": 45,
   "metadata": {},
   "outputs": [],
   "source": [
    "#keras.layers.Embedding(input_dim, output_dim, embeddings_initializer='uniform', embeddings_regularizer=None, activity_regularizer=None, embeddings_constraint=None, mask_zero=False, input_length=None)\n",
    "# build NMT model\n",
    "def define_model(in_vocab,out_vocab, in_timesteps,out_timesteps,units):\n",
    "      model = Sequential()\n",
    "      model.add(Embedding(input_dim=in_vocab,output_dim=units, input_length = in_timesteps, mask_zero=True))\n",
    "      model.add(LSTM(units))\n",
    "      model.add(RepeatVector(out_timesteps))\n",
    "      model.add(LSTM(units, return_sequences=True))\n",
    "      model.add(Dense(out_vocab, activation='softmax'))\n",
    "      return model"
   ]
  },
  {
   "cell_type": "code",
   "execution_count": 46,
   "metadata": {},
   "outputs": [],
   "source": [
    "# model compilation\n",
    "model = define_model(spa_vocab_size, eng_vocab_size, spa_length, eng_length, 512)"
   ]
  },
  {
   "cell_type": "code",
   "execution_count": 47,
   "metadata": {},
   "outputs": [
    {
     "name": "stdout",
     "output_type": "stream",
     "text": [
      "_________________________________________________________________\n",
      "Layer (type)                 Output Shape              Param #   \n",
      "=================================================================\n",
      "embedding_2 (Embedding)      (None, 8, 512)            9781248   \n",
      "_________________________________________________________________\n",
      "lstm_3 (LSTM)                (None, 512)               2099200   \n",
      "_________________________________________________________________\n",
      "repeat_vector_2 (RepeatVecto (None, 7, 512)            0         \n",
      "_________________________________________________________________\n",
      "lstm_4 (LSTM)                (None, 7, 512)            2099200   \n",
      "_________________________________________________________________\n",
      "dense_2 (Dense)              (None, 7, 10369)          5319297   \n",
      "=================================================================\n",
      "Total params: 19,298,945\n",
      "Trainable params: 19,298,945\n",
      "Non-trainable params: 0\n",
      "_________________________________________________________________\n"
     ]
    }
   ],
   "source": [
    "model.summary()"
   ]
  },
  {
   "cell_type": "code",
   "execution_count": 48,
   "metadata": {},
   "outputs": [],
   "source": [
    "rms = optimizers.RMSprop(lr=0.001)\n",
    "model.compile(optimizer=rms, loss='sparse_categorical_crossentropy')"
   ]
  },
  {
   "cell_type": "code",
   "execution_count": 49,
   "metadata": {},
   "outputs": [
    {
     "name": "stdout",
     "output_type": "stream",
     "text": [
      "Train on 57600 samples, validate on 14400 samples\n",
      "Epoch 1/32\n",
      "57600/57600 [==============================] - 37s 636us/step - loss: 5.0337 - val_loss: 4.6408\n",
      "\n",
      "Epoch 00001: val_loss improved from inf to 4.64082, saving model to model.h1.24_feb_19\n",
      "Epoch 2/32\n",
      "57600/57600 [==============================] - 34s 590us/step - loss: 4.5181 - val_loss: 4.4129\n",
      "\n",
      "Epoch 00002: val_loss improved from 4.64082 to 4.41291, saving model to model.h1.24_feb_19\n",
      "Epoch 3/32\n",
      "57600/57600 [==============================] - 34s 598us/step - loss: 4.2665 - val_loss: 4.2290\n",
      "\n",
      "Epoch 00003: val_loss improved from 4.41291 to 4.22900, saving model to model.h1.24_feb_19\n",
      "Epoch 4/32\n",
      "57600/57600 [==============================] - 35s 609us/step - loss: 3.9941 - val_loss: 3.9310\n",
      "\n",
      "Epoch 00004: val_loss improved from 4.22900 to 3.93096, saving model to model.h1.24_feb_19\n",
      "Epoch 5/32\n",
      "57600/57600 [==============================] - 35s 600us/step - loss: 3.7163 - val_loss: 3.7078\n",
      "\n",
      "Epoch 00005: val_loss improved from 3.93096 to 3.70782, saving model to model.h1.24_feb_19\n",
      "Epoch 6/32\n",
      "57600/57600 [==============================] - 35s 613us/step - loss: 3.4598 - val_loss: 3.5249\n",
      "\n",
      "Epoch 00006: val_loss improved from 3.70782 to 3.52485, saving model to model.h1.24_feb_19\n",
      "Epoch 7/32\n",
      "57600/57600 [==============================] - 35s 607us/step - loss: 3.2152 - val_loss: 3.3376\n",
      "\n",
      "Epoch 00007: val_loss improved from 3.52485 to 3.33759, saving model to model.h1.24_feb_19\n",
      "Epoch 8/32\n",
      "57600/57600 [==============================] - 35s 608us/step - loss: 2.9921 - val_loss: 3.1976\n",
      "\n",
      "Epoch 00008: val_loss improved from 3.33759 to 3.19764, saving model to model.h1.24_feb_19\n",
      "Epoch 9/32\n",
      "57600/57600 [==============================] - 34s 591us/step - loss: 2.7831 - val_loss: 3.0537\n",
      "\n",
      "Epoch 00009: val_loss improved from 3.19764 to 3.05367, saving model to model.h1.24_feb_19\n",
      "Epoch 10/32\n",
      "57600/57600 [==============================] - 34s 596us/step - loss: 2.5922 - val_loss: 2.9248\n",
      "\n",
      "Epoch 00010: val_loss improved from 3.05367 to 2.92484, saving model to model.h1.24_feb_19\n",
      "Epoch 11/32\n",
      "57600/57600 [==============================] - 35s 605us/step - loss: 2.4119 - val_loss: 2.8243\n",
      "\n",
      "Epoch 00011: val_loss improved from 2.92484 to 2.82434, saving model to model.h1.24_feb_19\n",
      "Epoch 12/32\n",
      "57600/57600 [==============================] - 35s 605us/step - loss: 2.2465 - val_loss: 2.7455\n",
      "\n",
      "Epoch 00012: val_loss improved from 2.82434 to 2.74549, saving model to model.h1.24_feb_19\n",
      "Epoch 13/32\n",
      "57600/57600 [==============================] - 34s 596us/step - loss: 2.0924 - val_loss: 2.6841\n",
      "\n",
      "Epoch 00013: val_loss improved from 2.74549 to 2.68407, saving model to model.h1.24_feb_19\n",
      "Epoch 14/32\n",
      "57600/57600 [==============================] - 35s 608us/step - loss: 1.9477 - val_loss: 2.5994\n",
      "\n",
      "Epoch 00014: val_loss improved from 2.68407 to 2.59937, saving model to model.h1.24_feb_19\n",
      "Epoch 15/32\n",
      "57600/57600 [==============================] - 34s 599us/step - loss: 1.8110 - val_loss: 2.5653\n",
      "\n",
      "Epoch 00015: val_loss improved from 2.59937 to 2.56533, saving model to model.h1.24_feb_19\n",
      "Epoch 16/32\n",
      "57600/57600 [==============================] - 35s 609us/step - loss: 1.6861 - val_loss: 2.5184\n",
      "\n",
      "Epoch 00016: val_loss improved from 2.56533 to 2.51838, saving model to model.h1.24_feb_19\n",
      "Epoch 17/32\n",
      "57600/57600 [==============================] - 35s 606us/step - loss: 1.5695 - val_loss: 2.4677\n",
      "\n",
      "Epoch 00017: val_loss improved from 2.51838 to 2.46773, saving model to model.h1.24_feb_19\n",
      "Epoch 18/32\n",
      "57600/57600 [==============================] - 35s 603us/step - loss: 1.4608 - val_loss: 2.4385\n",
      "\n",
      "Epoch 00018: val_loss improved from 2.46773 to 2.43855, saving model to model.h1.24_feb_19\n",
      "Epoch 19/32\n",
      "57600/57600 [==============================] - 35s 608us/step - loss: 1.3573 - val_loss: 2.4141\n",
      "\n",
      "Epoch 00019: val_loss improved from 2.43855 to 2.41406, saving model to model.h1.24_feb_19\n",
      "Epoch 20/32\n",
      "57600/57600 [==============================] - 35s 606us/step - loss: 1.2608 - val_loss: 2.3953\n",
      "\n",
      "Epoch 00020: val_loss improved from 2.41406 to 2.39529, saving model to model.h1.24_feb_19\n",
      "Epoch 21/32\n",
      "57600/57600 [==============================] - 35s 600us/step - loss: 1.1686 - val_loss: 2.4053\n",
      "\n",
      "Epoch 00021: val_loss did not improve from 2.39529\n",
      "Epoch 22/32\n",
      "57600/57600 [==============================] - 34s 584us/step - loss: 1.0828 - val_loss: 2.3987\n",
      "\n",
      "Epoch 00022: val_loss did not improve from 2.39529\n",
      "Epoch 23/32\n",
      "57600/57600 [==============================] - 34s 594us/step - loss: 1.0014 - val_loss: 2.3912\n",
      "\n",
      "Epoch 00023: val_loss improved from 2.39529 to 2.39116, saving model to model.h1.24_feb_19\n",
      "Epoch 24/32\n",
      "57600/57600 [==============================] - 35s 600us/step - loss: 0.9231 - val_loss: 2.3982\n",
      "\n",
      "Epoch 00024: val_loss did not improve from 2.39116\n",
      "Epoch 25/32\n",
      "57600/57600 [==============================] - 35s 611us/step - loss: 0.8500 - val_loss: 2.4383\n",
      "\n",
      "Epoch 00025: val_loss did not improve from 2.39116\n",
      "Epoch 26/32\n",
      "57600/57600 [==============================] - 35s 605us/step - loss: 0.7810 - val_loss: 2.4241\n",
      "\n",
      "Epoch 00026: val_loss did not improve from 2.39116\n",
      "Epoch 27/32\n",
      "57600/57600 [==============================] - 35s 601us/step - loss: 0.7166 - val_loss: 2.4618\n",
      "\n",
      "Epoch 00027: val_loss did not improve from 2.39116\n",
      "Epoch 28/32\n",
      "57600/57600 [==============================] - 35s 606us/step - loss: 0.6561 - val_loss: 2.4688\n",
      "\n",
      "Epoch 00028: val_loss did not improve from 2.39116\n",
      "Epoch 29/32\n",
      "57600/57600 [==============================] - 35s 605us/step - loss: 0.5987 - val_loss: 2.4762\n",
      "\n",
      "Epoch 00029: val_loss did not improve from 2.39116\n",
      "Epoch 30/32\n",
      "57600/57600 [==============================] - 34s 593us/step - loss: 0.5484 - val_loss: 2.4920\n",
      "\n",
      "Epoch 00030: val_loss did not improve from 2.39116\n",
      "Epoch 31/32\n",
      "57600/57600 [==============================] - 35s 602us/step - loss: 0.4972 - val_loss: 2.5166\n",
      "\n",
      "Epoch 00031: val_loss did not improve from 2.39116\n",
      "Epoch 32/32\n",
      "57600/57600 [==============================] - 36s 623us/step - loss: 0.4522 - val_loss: 2.5349\n",
      "\n",
      "Epoch 00032: val_loss did not improve from 2.39116\n"
     ]
    }
   ],
   "source": [
    "#total epochs =15 \n",
    "filename = 'model.h1.24_feb_19'\n",
    "checkpoint = ModelCheckpoint(filename, monitor='val_loss', verbose=1, save_best_only=True, mode='min')\n",
    "\n",
    "# train model\n",
    "history = model.fit(trainX, trainY.reshape(trainY.shape[0], trainY.shape[1], 1),\n",
    "                    epochs=32, batch_size=512, validation_split = 0.2,callbacks=[checkpoint], \n",
    "                    verbose=1)"
   ]
  },
  {
   "cell_type": "code",
   "execution_count": 51,
   "metadata": {},
   "outputs": [
    {
     "data": {
      "image/png": "[encoded data removed]",
      "text/plain": [
       "<Figure size 432x288 with 1 Axes>"
      ]
     },
     "metadata": {
      "needs_background": "light"
     },
     "output_type": "display_data"
    }
   ],
   "source": [
    "plt.plot(history.history['loss'])\n",
    "plt.plot(history.history['val_loss'])\n",
    "plt.legend(['train','validation'])\n",
    "plt.show()\n"
   ]
  },
  {
   "cell_type": "code",
   "execution_count": 31,
   "metadata": {},
   "outputs": [],
   "source": [
    "#model = load_model('model.h1.24_feb_19')"
   ]
  },
  {
   "cell_type": "code",
   "execution_count": 52,
   "metadata": {},
   "outputs": [],
   "source": [
    "preds = model.predict_classes(testX.reshape((testX.shape[0],testX.shape[1])))"
   ]
  },
  {
   "cell_type": "code",
   "execution_count": 54,
   "metadata": {},
   "outputs": [],
   "source": [
    "def get_word(n, tokenizer):\n",
    "    t = None\n",
    "    for word, index in tokenizer.word_index.items():\n",
    "        if index == n:\n",
    "            t = word\n",
    "            \n",
    "    return t"
   ]
  },
  {
   "cell_type": "code",
   "execution_count": 55,
   "metadata": {},
   "outputs": [],
   "source": [
    "preds_text = []\n",
    "for i in preds[:15,:]:\n",
    "    temp = []\n",
    "    for j in range(len(i)):\n",
    "        t = get_word(i[j], eng_tokenizer)\n",
    "        if j > 0:\n",
    "            a = (t == get_word(i[j-1],eng_tokenizer))\n",
    "            b = (t == None)\n",
    "            if a or b:\n",
    "                     temp.append('')\n",
    "            else:\n",
    "                     temp.append(t)\n",
    "        else:\n",
    "            temp.append(t)\n",
    "    preds_text.append(' '.join(temp))"
   ]
  },
  {
   "cell_type": "code",
   "execution_count": 56,
   "metadata": {},
   "outputs": [],
   "source": [
    "pred_df = pd.DataFrame({'actual' : test[:,0][:15], 'predicted' : preds_text})"
   ]
  },
  {
   "cell_type": "code",
   "execution_count": 64,
   "metadata": {},
   "outputs": [
    {
     "data": {
      "text/html": [
       "<div>\n",
       "<style scoped>\n",
       "    .dataframe tbody tr th:only-of-type {\n",
       "        vertical-align: middle;\n",
       "    }\n",
       "\n",
       "    .dataframe tbody tr th {\n",
       "        vertical-align: top;\n",
       "    }\n",
       "\n",
       "    .dataframe thead th {\n",
       "        text-align: right;\n",
       "    }\n",
       "</style>\n",
       "<table border=\"1\" class=\"dataframe\">\n",
       "  <thead>\n",
       "    <tr style=\"text-align: right;\">\n",
       "      <th></th>\n",
       "      <th>actual</th>\n",
       "      <th>predicted</th>\n",
       "    </tr>\n",
       "  </thead>\n",
       "  <tbody>\n",
       "    <tr>\n",
       "      <th>0</th>\n",
       "      <td>we stayed at a hotel by the lake</td>\n",
       "      <td>staying at hotel  by a hotel</td>\n",
       "    </tr>\n",
       "    <tr>\n",
       "      <th>1</th>\n",
       "      <td>tom lost his wallet</td>\n",
       "      <td>tom lost his</td>\n",
       "    </tr>\n",
       "    <tr>\n",
       "      <th>2</th>\n",
       "      <td>he left the window open</td>\n",
       "      <td>he left the window</td>\n",
       "    </tr>\n",
       "    <tr>\n",
       "      <th>3</th>\n",
       "      <td>she can speak english of course</td>\n",
       "      <td>she knows english of</td>\n",
       "    </tr>\n",
       "    <tr>\n",
       "      <th>4</th>\n",
       "      <td>where did you go last sunday</td>\n",
       "      <td>where did you go to last</td>\n",
       "    </tr>\n",
       "  </tbody>\n",
       "</table>\n",
       "</div>"
      ],
      "text/plain": [
       "                             actual                     predicted\n",
       "0  we stayed at a hotel by the lake  staying at hotel  by a hotel\n",
       "1               tom lost his wallet              tom lost his    \n",
       "2           he left the window open         he left the window   \n",
       "3   she can speak english of course       she knows english of   \n",
       "4      where did you go last sunday     where did you go to last "
      ]
     },
     "execution_count": 64,
     "metadata": {},
     "output_type": "execute_result"
    }
   ],
   "source": [
    "# print 5 rows randomly\n",
    "pred_df.head(5)\n"
   ]
  },
  {
   "cell_type": "code",
   "execution_count": null,
   "metadata": {},
   "outputs": [],
   "source": []
  }
 ],
 "metadata": {
  "kernelspec": {
   "display_name": "Python 2",
   "language": "python",
   "name": "python2"
  },
  "language_info": {
   "codemirror_mode": {
    "name": "ipython",
    "version": 2
   },
   "file_extension": ".py",
   "mimetype": "text/x-python",
   "name": "python",
   "nbconvert_exporter": "python",
   "pygments_lexer": "ipython2",
   "version": "2.7.12"
  }
 },
 "nbformat": 4,
 "nbformat_minor": 2
}
